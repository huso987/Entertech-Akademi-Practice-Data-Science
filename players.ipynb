{
 "cells": [
  {
   "cell_type": "code",
   "execution_count": 1,
   "id": "24e6cdaf-510e-4cdc-a81a-68f25b102e7b",
   "metadata": {},
   "outputs": [],
   "source": [
    "import pandas as pd\n",
    "import numpy as np"
   ]
  },
  {
   "cell_type": "code",
   "execution_count": 2,
   "id": "a6a2e897-1e83-40ac-870e-d9f1d5c6d5c5",
   "metadata": {},
   "outputs": [
    {
     "name": "stdout",
     "output_type": "stream",
     "text": [
      "                 Name Position            Team  Age  Height  Height_i  Weight  \\\n",
      "0      Juhann Begarin       SG  Boston Celtics   19   6' 5\"      6.50     185   \n",
      "1        Jaylen Brown       SG  Boston Celtics   24   6' 6\"      6.60     223   \n",
      "2           Kris Dunn       PG  Boston Celtics   27   6' 3\"      6.30     205   \n",
      "3      Carsen Edwards       PG  Boston Celtics   23  5' 11\"      5.11     200   \n",
      "4          Tacko Fall        C  Boston Celtics   25   7' 5\"      7.50     311   \n",
      "..                ...      ...             ...  ...     ...       ...     ...   \n",
      "553      Juwan Morgan       SF       Utah Jazz   24   6' 7\"      6.70     232   \n",
      "554     Royce O'Neale       PF       Utah Jazz   28   6' 4\"      6.40     226   \n",
      "555       Olumiye Oni       SG       Utah Jazz   24   6' 5\"      6.50     206   \n",
      "556     Eric Paschall        F       Utah Jazz   24   6' 6\"      6.60     255   \n",
      "557  Hassan Whiteside        C       Utah Jazz   32   7' 0\"      7.00     265   \n",
      "\n",
      "        College      Salary  Points  Rebounds  Assists  \n",
      "0           NaN         NaN     NaN       NaN      NaN  \n",
      "1    California  26758928.0    24.7       6.0      3.4  \n",
      "2    Providence   5005350.0     1.3       1.5      0.5  \n",
      "3        Purdue   1782621.0     4.0       0.8      0.5  \n",
      "4           UCF         NaN     2.5       2.7      0.2  \n",
      "..          ...         ...     ...       ...      ...  \n",
      "553     Indiana         NaN     1.2       1.0      0.3  \n",
      "554      Baylor   8800000.0     7.0       6.8      2.5  \n",
      "555        Yale   1782621.0     NaN       NaN      NaN  \n",
      "556   Villanova   1782621.0     9.5       3.2      1.3  \n",
      "557    Marshall   1669178.0     8.1       6.0      0.6  \n",
      "\n",
      "[558 rows x 12 columns]\n"
     ]
    }
   ],
   "source": [
    "nba = pd.read_csv('players.csv')\n",
    "print(nba)"
   ]
  },
  {
   "cell_type": "code",
   "execution_count": 3,
   "id": "b030e7f2-295b-44f7-912f-bf1671e1a5ce",
   "metadata": {},
   "outputs": [
    {
     "name": "stdout",
     "output_type": "stream",
     "text": [
      "                 Name Position            Team  Age  Height  Weight  \\\n",
      "0      Juhann Begarin       SG  Boston Celtics   19   6' 5\"     185   \n",
      "1        Jaylen Brown       SG  Boston Celtics   24   6' 6\"     223   \n",
      "2           Kris Dunn       PG  Boston Celtics   27   6' 3\"     205   \n",
      "3      Carsen Edwards       PG  Boston Celtics   23  5' 11\"     200   \n",
      "4          Tacko Fall        C  Boston Celtics   25   7' 5\"     311   \n",
      "..                ...      ...             ...  ...     ...     ...   \n",
      "553      Juwan Morgan       SF       Utah Jazz   24   6' 7\"     232   \n",
      "554     Royce O'Neale       PF       Utah Jazz   28   6' 4\"     226   \n",
      "555       Olumiye Oni       SG       Utah Jazz   24   6' 5\"     206   \n",
      "556     Eric Paschall        F       Utah Jazz   24   6' 6\"     255   \n",
      "557  Hassan Whiteside        C       Utah Jazz   32   7' 0\"     265   \n",
      "\n",
      "        College      Salary  Points  Rebounds  Assists  \n",
      "0           NaN         NaN     NaN       NaN      NaN  \n",
      "1    California  26758928.0    24.7       6.0      3.4  \n",
      "2    Providence   5005350.0     1.3       1.5      0.5  \n",
      "3        Purdue   1782621.0     4.0       0.8      0.5  \n",
      "4           UCF         NaN     2.5       2.7      0.2  \n",
      "..          ...         ...     ...       ...      ...  \n",
      "553     Indiana         NaN     1.2       1.0      0.3  \n",
      "554      Baylor   8800000.0     7.0       6.8      2.5  \n",
      "555        Yale   1782621.0     NaN       NaN      NaN  \n",
      "556   Villanova   1782621.0     9.5       3.2      1.3  \n",
      "557    Marshall   1669178.0     8.1       6.0      0.6  \n",
      "\n",
      "[558 rows x 11 columns]\n"
     ]
    }
   ],
   "source": [
    "nba.drop(columns = [\"Height_i\"], inplace=True)\n",
    "print(nba)"
   ]
  },
  {
   "cell_type": "code",
   "execution_count": 4,
   "id": "5ac3dd4c-8fe9-4f48-9117-1bdf3c7d1403",
   "metadata": {},
   "outputs": [
    {
     "data": {
      "text/plain": [
       "<Axes: >"
      ]
     },
     "execution_count": 4,
     "metadata": {},
     "output_type": "execute_result"
    },
    {
     "data": {
      "image/png": "[encoded data removed]",
      "text/plain": [
       "<Figure size 640x480 with 1 Axes>"
      ]
     },
     "metadata": {},
     "output_type": "display_data"
    }
   ],
   "source": [
    "nba[\"Salary\"].hist()"
   ]
  },
  {
   "cell_type": "code",
   "execution_count": 5,
   "id": "2e0d1678-d3d7-4f42-b82d-adf3ee840efd",
   "metadata": {},
   "outputs": [
    {
     "name": "stdout",
     "output_type": "stream",
     "text": [
      "                 Name Position            Team  Age  Height  Weight  \\\n",
      "1        Jaylen Brown       SG  Boston Celtics   24   6' 6\"     223   \n",
      "2           Kris Dunn       PG  Boston Celtics   27   6' 3\"     205   \n",
      "3      Carsen Edwards       PG  Boston Celtics   23  5' 11\"     200   \n",
      "5      Bruno Fernando        F  Boston Celtics   23   6' 9\"     240   \n",
      "6          Al Horford        C  Boston Celtics   35   6' 9\"     240   \n",
      "..                ...      ...             ...  ...     ...     ...   \n",
      "549     Elijah Hughes       SF       Utah Jazz   23   6' 5\"     215   \n",
      "552  Donovan Mitchell       SG       Utah Jazz   25   6' 1\"     215   \n",
      "554     Royce O'Neale       PF       Utah Jazz   28   6' 4\"     226   \n",
      "556     Eric Paschall        F       Utah Jazz   24   6' 6\"     255   \n",
      "557  Hassan Whiteside        C       Utah Jazz   32   7' 0\"     265   \n",
      "\n",
      "        College      Salary  Points  Rebounds  Assists  \n",
      "1    California  26758928.0    24.7       6.0      3.4  \n",
      "2    Providence   5005350.0     1.3       1.5      0.5  \n",
      "3        Purdue   1782621.0     4.0       0.8      0.5  \n",
      "5      Maryland   1782621.0     1.5       2.4      0.3  \n",
      "6       Florida  27000000.0    14.2       6.7      3.4  \n",
      "..          ...         ...     ...       ...      ...  \n",
      "549    Syracuse   1517981.0     1.7       0.5      0.3  \n",
      "552  Louisville  28103500.0    26.4       4.4      5.2  \n",
      "554      Baylor   8800000.0     7.0       6.8      2.5  \n",
      "556   Villanova   1782621.0     9.5       3.2      1.3  \n",
      "557    Marshall   1669178.0     8.1       6.0      0.6  \n",
      "\n",
      "[339 rows x 11 columns]\n"
     ]
    }
   ],
   "source": [
    "nba.dropna(inplace = True)\n",
    "print(nba)"
   ]
  },
  {
   "cell_type": "code",
   "execution_count": 6,
   "id": "50560d25-7610-4834-baea-b347a8fe1e2f",
   "metadata": {},
   "outputs": [
    {
     "name": "stdout",
     "output_type": "stream",
     "text": [
      "(339, 11)\n"
     ]
    }
   ],
   "source": [
    "print(nba.shape)"
   ]
  },
  {
   "cell_type": "code",
   "execution_count": 7,
   "id": "882ec13d-cf31-49ae-a7f2-2d2f56950138",
   "metadata": {},
   "outputs": [
    {
     "name": "stdout",
     "output_type": "stream",
     "text": [
      "                 Name Position            Team  Age  Height  Weight  \\\n",
      "1        Jaylen Brown       SG  Boston Celtics   24   6' 6\"     101   \n",
      "2           Kris Dunn       PG  Boston Celtics   27   6' 3\"      92   \n",
      "3      Carsen Edwards       PG  Boston Celtics   23  5' 11\"      90   \n",
      "5      Bruno Fernando        F  Boston Celtics   23   6' 9\"     108   \n",
      "6          Al Horford        C  Boston Celtics   35   6' 9\"     108   \n",
      "..                ...      ...             ...  ...     ...     ...   \n",
      "549     Elijah Hughes       SF       Utah Jazz   23   6' 5\"      97   \n",
      "552  Donovan Mitchell       SG       Utah Jazz   25   6' 1\"      97   \n",
      "554     Royce O'Neale       PF       Utah Jazz   28   6' 4\"     102   \n",
      "556     Eric Paschall        F       Utah Jazz   24   6' 6\"     115   \n",
      "557  Hassan Whiteside        C       Utah Jazz   32   7' 0\"     120   \n",
      "\n",
      "        College      Salary  Points  Rebounds  Assists  \n",
      "1    California  26758928.0    24.7       6.0      3.4  \n",
      "2    Providence   5005350.0     1.3       1.5      0.5  \n",
      "3        Purdue   1782621.0     4.0       0.8      0.5  \n",
      "5      Maryland   1782621.0     1.5       2.4      0.3  \n",
      "6       Florida  27000000.0    14.2       6.7      3.4  \n",
      "..          ...         ...     ...       ...      ...  \n",
      "549    Syracuse   1517981.0     1.7       0.5      0.3  \n",
      "552  Louisville  28103500.0    26.4       4.4      5.2  \n",
      "554      Baylor   8800000.0     7.0       6.8      2.5  \n",
      "556   Villanova   1782621.0     9.5       3.2      1.3  \n",
      "557    Marshall   1669178.0     8.1       6.0      0.6  \n",
      "\n",
      "[339 rows x 11 columns]\n",
      "1      198\n",
      "2      190\n",
      "3      180\n",
      "5      205\n",
      "6      205\n",
      "      ... \n",
      "549    195\n",
      "552    185\n",
      "554    193\n",
      "556    198\n",
      "557    213\n",
      "Name: Height, Length: 339, dtype: int64\n"
     ]
    }
   ],
   "source": [
    "# weighti kg ye çevirme\n",
    "nba[\"Weight\"] = (nba[\"Weight\"] * 0.453592).astype(int)\n",
    "print(nba)\n",
    "#height cm çevirme\n",
    "height_as_cm = []\n",
    "for i in nba[\"Height\"]:\n",
    "    ft_str, inc_str = i.replace(\"\\'\",\"\").replace(\"\\\"\",\"\").split(\" \")\n",
    "    ft, inc = int(ft_str), int(inc_str)\n",
    "    cm = int(ft*30.48 + inc * 2.54)\n",
    "    height_as_cm.append(cm)\n",
    "nba[\"Height\"] = height_as_cm\n",
    "print(nba[\"Height\"])"
   ]
  },
  {
   "cell_type": "code",
   "execution_count": 8,
   "id": "d66dadba-2a40-4a2a-b9b7-163f9f4f822a",
   "metadata": {},
   "outputs": [
    {
     "name": "stdout",
     "output_type": "stream",
     "text": [
      "9316527.123893805\n"
     ]
    }
   ],
   "source": [
    "#ortalama maaş\n",
    "salary_mean = nba[\"Salary\"].mean()\n",
    "print(salary_mean)"
   ]
  },
  {
   "cell_type": "code",
   "execution_count": 9,
   "id": "a0087e4c-cba4-4489-8bb1-53b5aa3977f4",
   "metadata": {},
   "outputs": [
    {
     "name": "stdout",
     "output_type": "stream",
     "text": [
      "12636681.12 6681484.26984127\n"
     ]
    }
   ],
   "source": [
    "# genç ile yaşlı oyuncuların maaş ortalaması \n",
    "age_mean = nba[\"Age\"].mean()\n",
    "olds = nba.loc[nba[\"Age\"] >= age_mean]\n",
    "youngs = nba.loc[nba[\"Age\"] < age_mean]\n",
    "olds_mean = olds[\"Salary\"].mean()\n",
    "youngs_mean = youngs[\"Salary\"].mean()\n",
    "print(olds_mean, youngs_mean)"
   ]
  },
  {
   "cell_type": "code",
   "execution_count": 10,
   "id": "bda348e7-f79c-4462-b248-66438af6d6e1",
   "metadata": {},
   "outputs": [
    {
     "data": {
      "text/plain": [
       "Position\n",
       "PG    26\n",
       "SG    25\n",
       "SF    20\n",
       "PF    16\n",
       "C     12\n",
       "G      1\n",
       "Name: count, dtype: int64"
      ]
     },
     "execution_count": 10,
     "metadata": {},
     "output_type": "execute_result"
    }
   ],
   "source": [
    "# En değerli oyuncular hangi pozisyonda oyunuyor\n",
    "most_valuable_players = nba.sort_values(\"Salary\", ascending=False).iloc[:100]\n",
    "most_valuable_players[\"Position\"].value_counts()"
   ]
  },
  {
   "cell_type": "code",
   "execution_count": 12,
   "id": "1cf015bf-d5d5-462c-86bf-696127fe7646",
   "metadata": {},
   "outputs": [
    {
     "name": "stdout",
     "output_type": "stream",
     "text": [
      "9503176.15\n"
     ]
    }
   ],
   "source": [
    "# En uzun 20 oyuncunun aldığı maaşların ortalaması nedir?\n",
    "en_uzun_20 = nba.sort_values(by = \"Height\", ascending = False).head(20)\n",
    "ortalama = en_uzun_20[\"Salary\"].mean()\n",
    "print(ortalama)"
   ]
  },
  {
   "cell_type": "code",
   "execution_count": 15,
   "id": "9b37ea65-e75c-49c3-ae0b-9c9a362ac33e",
   "metadata": {},
   "outputs": [
    {
     "name": "stdout",
     "output_type": "stream",
     "text": [
      "                 Name Position            Team  Age  Height  Weight  \\\n",
      "1        Jaylen Brown       SG  Boston Celtics   24     198     101   \n",
      "2           Kris Dunn       PG  Boston Celtics   27     190      92   \n",
      "3      Carsen Edwards       PG  Boston Celtics   23     180      90   \n",
      "5      Bruno Fernando        F  Boston Celtics   23     205     108   \n",
      "6          Al Horford        C  Boston Celtics   35     205     108   \n",
      "..                ...      ...             ...  ...     ...     ...   \n",
      "549     Elijah Hughes       SF       Utah Jazz   23     195      97   \n",
      "552  Donovan Mitchell       SG       Utah Jazz   25     185      97   \n",
      "554     Royce O'Neale       PF       Utah Jazz   28     193     102   \n",
      "556     Eric Paschall        F       Utah Jazz   24     198     115   \n",
      "557  Hassan Whiteside        C       Utah Jazz   32     213     120   \n",
      "\n",
      "        College      Salary  Points  Rebounds  Assists  Total_Score  \n",
      "1    California  26758928.0    24.7       6.0      3.4         34.1  \n",
      "2    Providence   5005350.0     1.3       1.5      0.5          3.3  \n",
      "3        Purdue   1782621.0     4.0       0.8      0.5          5.3  \n",
      "5      Maryland   1782621.0     1.5       2.4      0.3          4.2  \n",
      "6       Florida  27000000.0    14.2       6.7      3.4         24.3  \n",
      "..          ...         ...     ...       ...      ...          ...  \n",
      "549    Syracuse   1517981.0     1.7       0.5      0.3          2.5  \n",
      "552  Louisville  28103500.0    26.4       4.4      5.2         36.0  \n",
      "554      Baylor   8800000.0     7.0       6.8      2.5         16.3  \n",
      "556   Villanova   1782621.0     9.5       3.2      1.3         14.0  \n",
      "557    Marshall   1669178.0     8.1       6.0      0.6         14.7  \n",
      "\n",
      "[339 rows x 12 columns]\n"
     ]
    }
   ],
   "source": [
    "# Her oyuncu için points, rebounds ve assists skorlarının toplamını, Total Score adında yeni bir kolon olarak ekleyin.\n",
    "nba[\"Total_Score\"] = nba[\"Points\"] + nba[\"Rebounds\"] + nba[\"Assists\"]\n",
    "print(nba)"
   ]
  },
  {
   "cell_type": "code",
   "execution_count": 22,
   "id": "d1ead172-a024-4639-b413-4aff876b05f1",
   "metadata": {},
   "outputs": [
    {
     "data": {
      "text/plain": [
       "College\n",
       "Kentucky           3\n",
       "Duke               3\n",
       "UCLA               2\n",
       "Davidson           1\n",
       "Arizona State      1\n",
       "Kansas             1\n",
       "Weber State        1\n",
       "Florida            1\n",
       "Texas              1\n",
       "USC                1\n",
       "Oklahoma           1\n",
       "San Diego State    1\n",
       "Louisville         1\n",
       "Marquette          1\n",
       "Fresno State       1\n",
       "Name: count, dtype: int64"
      ]
     },
     "execution_count": 22,
     "metadata": {},
     "output_type": "execute_result"
    }
   ],
   "source": [
    "# Total Score bazında en başarılı 20 oyuncunun kaç tanesi hangi College'tan mezundur (3 tanesi A'dan, 8 tanesi B'den gibi)?\n",
    "most_players_20 = nba.sort_values(\"Total_Score\", ascending=False).head(20)\n",
    "most_players_20[\"College\"].value_counts()"
   ]
  },
  {
   "cell_type": "code",
   "execution_count": 36,
   "id": "5ac3783a-1b34-45ac-b551-c76ececba837",
   "metadata": {},
   "outputs": [
    {
     "name": "stdout",
     "output_type": "stream",
     "text": [
      "30\n",
      "['Boston Celtics' 'Brooklyn Nets' 'New York Knicks' 'Philadelphia Sixers'\n",
      " 'Toronto Raptors' 'Chicago Bulls' 'Cleveland Cavaliers' 'Detroit Pistons'\n",
      " 'Indiana Pacers' 'Milwaukee Bucks' 'Atlanta Hawks' 'Charlotte Hornets'\n",
      " 'Miami Heat' 'Orlando Magic' 'Washington Wizards' 'Golden State Warriors'\n",
      " 'Los Angeles Clippers' 'Los Angeles Lakers' 'Phoenix Suns'\n",
      " 'Sacremento Kings' 'Dallas Mavericks' 'Houston Rockets'\n",
      " 'Memphis Grizzlies' 'New Orleans Pelicans' 'San Antonio Spurs'\n",
      " 'Denver Nuggets' 'Minnesota Timberwolves' 'Oklahoma City Thunder'\n",
      " 'Portland Trail Blazers' 'Utah Jazz']\n"
     ]
    }
   ],
   "source": [
    "# DataFrame'lerin unique() metodunu kullanarak kaç farklı Team olduğunu bulun.\n",
    "total_team = nba[\"Team\"].nunique()\n",
    "total_team_name = nba[\"Team\"].unique()\n",
    "print(total_team)\n",
    "print(total_team_name)"
   ]
  },
  {
   "cell_type": "code",
   "execution_count": 38,
   "id": "abc47d32-89d8-44d5-911f-6aa7322936dc",
   "metadata": {},
   "outputs": [
    {
     "name": "stdout",
     "output_type": "stream",
     "text": [
      "Boston Celtics takımının toplam kadro değeri: 136192621.0\n",
      "Brooklyn Nets takımının toplam kadro değeri: 163974659.0\n",
      "New York Knicks takımının toplam kadro değeri: 117297022.0\n",
      "Philadelphia Sixers takımının toplam kadro değeri: 134081752.0\n",
      "Toronto Raptors takımının toplam kadro değeri: 106161388.0\n",
      "Chicago Bulls takımının toplam kadro değeri: 131244882.0\n",
      "Cleveland Cavaliers takımının toplam kadro değeri: 96391831.0\n",
      "Detroit Pistons takımının toplam kadro değeri: 69762615.0\n",
      "Indiana Pacers takımının toplam kadro değeri: 104747655.0\n",
      "Milwaukee Bucks takımının toplam kadro değeri: 107171816.0\n",
      "Atlanta Hawks takımının toplam kadro değeri: 68325162.0\n",
      "Charlotte Hornets takımının toplam kadro değeri: 91640416.0\n",
      "Miami Heat takımının toplam kadro değeri: 129465797.0\n",
      "Orlando Magic takımının toplam kadro değeri: 80666571.0\n",
      "Washington Wizards takımının toplam kadro değeri: 107490799.0\n",
      "Golden State Warriors takımının toplam kadro değeri: 128604321.0\n",
      "Los Angeles Clippers takımının toplam kadro değeri: 140313915.0\n",
      "Los Angeles Lakers takımının toplam kadro değeri: 104087574.0\n",
      "Phoenix Suns takımının toplam kadro değeri: 123083332.0\n",
      "Sacremento Kings takımının toplam kadro değeri: 127235635.0\n",
      "Dallas Mavericks takımının toplam kadro değeri: 64154092.0\n",
      "Houston Rockets takımının toplam kadro değeri: 96803723.0\n",
      "Memphis Grizzlies takımının toplam kadro değeri: 92835646.0\n",
      "New Orleans Pelicans takımının toplam kadro değeri: 83823977.0\n",
      "San Antonio Spurs takımının toplam kadro değeri: 97792397.0\n",
      "Denver Nuggets takımının toplam kadro değeri: 96149650.0\n",
      "Minnesota Timberwolves takımının toplam kadro değeri: 127379143.0\n",
      "Oklahoma City Thunder takımının toplam kadro değeri: 28261492.0\n",
      "Portland Trail Blazers takımının toplam kadro değeri: 118234474.0\n",
      "Utah Jazz takımının toplam kadro değeri: 84928338.0\n"
     ]
    }
   ],
   "source": [
    "# Her bir Team için toplam kadro değerlerini hesaplayın (for loop ile).\n",
    "team_name = nba[\"Team\"].unique()\n",
    "for team in team_name:\n",
    "        total_salary = nba[nba['Team'] == team]['Salary'].sum()\n",
    "        print(f\"{team} takımının toplam kadro değeri: {total_salary}\")"
   ]
  },
  {
   "cell_type": "code",
   "execution_count": 46,
   "id": "3dd5ded9-2edd-4e7f-9d2b-6f5371f074b9",
   "metadata": {},
   "outputs": [
    {
     "name": "stdout",
     "output_type": "stream",
     "text": [
      "En fit 10 oyuncu:                     Name Position                   Team  Age  Height  Weight  \\\n",
      "449     Zion Williamson       PF   New Orleans Pelicans   21     200     128   \n",
      "540      Udoka Azubuike        C              Utah Jazz   21     208     127   \n",
      "68       Andre Drummond        C    Philadelphia Sixers   28     208     126   \n",
      "69          Joel Embiid        C    Philadelphia Sixers   27     213     127   \n",
      "182         Brook Lopez        C        Milwaukee Bucks   33     213     127   \n",
      "257         Robin Lopez        C          Orlando Magic   33     213     127   \n",
      "211    Vernon Carey Jr.        C      Charlotte Hornets   20     205     122   \n",
      "39        Jahlil Okafor        C          Brooklyn Nets   25     208     122   \n",
      "248  Wendell Carter Jr.        C          Orlando Magic   22     208     122   \n",
      "506      Derrick Favors        C  Oklahoma City Thunder   30     205     120   \n",
      "\n",
      "          College      Salary  Points  Rebounds  Assists  Total_Score  \\\n",
      "449          Duke  10733400.0    27.0       7.2      3.7         37.9   \n",
      "540        Kansas   2075880.0     1.1       0.9      0.0          2.0   \n",
      "68    Connecticut   1669178.0    14.9      12.0      2.0         28.9   \n",
      "69         Kansas  31579390.0    28.5      10.6      2.8         41.9   \n",
      "182      Stanford  13302325.0    12.3       5.0      0.7         18.0   \n",
      "257      Stanford   5000000.0     9.0       3.8      0.8         13.6   \n",
      "211          Duke   1517981.0     2.4       1.4      0.1          3.9   \n",
      "39           Duke   2130023.0     5.4       2.4      0.5          8.3   \n",
      "248          Duke   6920027.0    11.2       8.2      1.9         21.3   \n",
      "506  Georgia Tech   9720900.0     5.4       5.5      0.6         11.5   \n",
      "\n",
      "     Beden_Kitle_Indeksi  \n",
      "449            32.000000  \n",
      "540            30.528846  \n",
      "68             30.288462  \n",
      "69             29.812207  \n",
      "182            29.812207  \n",
      "257            29.812207  \n",
      "211            29.756098  \n",
      "39             29.326923  \n",
      "248            29.326923  \n",
      "506            29.268293  \n"
     ]
    }
   ],
   "source": [
    "# Her oyuncunun Beden Kitle Endeksini hesaplayın ve en fit 10 oyuncuyu bulun. Formül: weight in kg / (height in meter)²\n",
    "nba[\"Beden_Kitle_Indeksi\"] = (nba[\"Weight\"] / ((nba[\"Height\"] / 100) * 2))\n",
    "fit_10 = nba.sort_values(\"Beden_Kitle_Indeksi\", ascending=False).head(10)\n",
    "print(\"En fit 10 oyuncu: \", fit_10)"
   ]
  }
 ],
 "metadata": {
  "kernelspec": {
   "display_name": "Python 3 (ipykernel)",
   "language": "python",
   "name": "python3"
  },
  "language_info": {
   "codemirror_mode": {
    "name": "ipython",
    "version": 3
   },
   "file_extension": ".py",
   "mimetype": "text/x-python",
   "name": "python",
   "nbconvert_exporter": "python",
   "pygments_lexer": "ipython3",
   "version": "3.10.12"
  }
 },
 "nbformat": 4,
 "nbformat_minor": 5
}
