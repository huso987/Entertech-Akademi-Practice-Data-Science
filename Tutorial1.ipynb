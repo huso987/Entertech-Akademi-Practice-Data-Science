{
 "cells": [
  {
   "cell_type": "code",
   "execution_count": 1,
   "id": "957822bd",
   "metadata": {},
   "outputs": [],
   "source": [
    "#pythonda fonksiyonlarda hangi tip input girileceği\n",
    "#yorum satırı verilir\n",
    "def add(a: int, b: int) -> int:\n",
    "    return a + b"
   ]
  },
  {
   "cell_type": "code",
   "execution_count": 2,
   "id": "b49a72c4",
   "metadata": {},
   "outputs": [],
   "source": [
    "add_l = lambda a, b : a + b"
   ]
  },
  {
   "cell_type": "code",
   "execution_count": 3,
   "id": "6c5c95ed",
   "metadata": {},
   "outputs": [
    {
     "data": {
      "text/plain": [
       "13"
      ]
     },
     "execution_count": 3,
     "metadata": {},
     "output_type": "execute_result"
    }
   ],
   "source": [
    "add_l(6,7)"
   ]
  },
  {
   "cell_type": "code",
   "execution_count": 4,
   "id": "f6ced347",
   "metadata": {},
   "outputs": [],
   "source": [
    "def func1(n):\n",
    "    return lambda a : a ** n"
   ]
  },
  {
   "cell_type": "code",
   "execution_count": 6,
   "id": "cb97e398",
   "metadata": {},
   "outputs": [
    {
     "data": {
      "text/plain": [
       "64"
      ]
     },
     "execution_count": 6,
     "metadata": {},
     "output_type": "execute_result"
    }
   ],
   "source": [
    "cuber = func1(3)\n",
    "cuber(4)"
   ]
  },
  {
   "cell_type": "code",
   "execution_count": 7,
   "id": "18bc8270",
   "metadata": {},
   "outputs": [],
   "source": [
    "#zipleme yöntmei örneği\n",
    "s = \"aaaaabbbtttttttrrrrrr\""
   ]
  },
  {
   "cell_type": "code",
   "execution_count": 18,
   "id": "9c4736b2",
   "metadata": {},
   "outputs": [
    {
     "name": "stdout",
     "output_type": "stream",
     "text": [
      "5a3b7t6r\n"
     ]
    }
   ],
   "source": [
    "zipped = \"\"\n",
    "count = 1\n",
    "for i in range(len(s)): # i=0, 1, 2, ..., 39\n",
    "     #sadece bitişte çalışır\n",
    "    if i+1 == len(s):\n",
    "        zipped += str(count) + letter\n",
    "        break\n",
    "    letter = s[i]\n",
    "    next_letter = s[i+1]\n",
    "    if letter == next_letter:\n",
    "        count += 1\n",
    "    else:\n",
    "        zipped += str(count) + letter\n",
    "        count = 1\n",
    "print(zipped)"
   ]
  },
  {
   "cell_type": "code",
   "execution_count": 26,
   "id": "3c1f6d55",
   "metadata": {},
   "outputs": [
    {
     "name": "stdout",
     "output_type": "stream",
     "text": [
      "aaaaabbbtttttttrrrrrr\n"
     ]
    }
   ],
   "source": [
    "#ziplenmiş dosyayı açma\n",
    "s = \"\"\n",
    "for i in range(0, len(zipped), 2):\n",
    "        count = zipped[i]\n",
    "        letter = zipped[i+1]\n",
    "        s += int(count) * letter\n",
    "print(s)"
   ]
  },
  {
   "cell_type": "code",
   "execution_count": 27,
   "id": "efd8694e",
   "metadata": {},
   "outputs": [],
   "source": [
    "data = [\n",
    "    {\n",
    "        \"date\": \"2023-07-10\",\n",
    "        \"item_id\": \"2754395\",\n",
    "        \"price\": 76.30,\n",
    "        \"quantity\": 7\n",
    "    },\n",
    "     {\n",
    "        \"date\": \"2023-05-10\",\n",
    "        \"item_id\": \"2043395\",\n",
    "        \"price\": 7.30,\n",
    "        \"quantity\": 4\n",
    "    },\n",
    "     {\n",
    "        \"date\": \"2022-05-10\",\n",
    "        \"item_id\": \"20563995\",\n",
    "        \"price\": 45.30,\n",
    "        \"quantity\": 2\n",
    "    },\n",
    "     {\n",
    "        \"date\": \"2023-01-01\",\n",
    "        \"item_id\": \"1343395\",\n",
    "        \"price\": 12.45,\n",
    "        \"quantity\": 23\n",
    "    },\n",
    "     {\n",
    "        \"date\": \"2023-03-12\",\n",
    "        \"item_id\": \"3423395\",\n",
    "        \"price\": 745.30,\n",
    "        \"quantity\": 1\n",
    "    }\n",
    "]"
   ]
  },
  {
   "cell_type": "code",
   "execution_count": 28,
   "id": "1cec2b4b",
   "metadata": {},
   "outputs": [],
   "source": [
    "sales = []\n",
    "for sale in data:\n",
    "    sales.append(sale[\"price\"] * sale[\"quantity\"])"
   ]
  },
  {
   "cell_type": "code",
   "execution_count": 35,
   "id": "b4863ac8",
   "metadata": {},
   "outputs": [],
   "source": [
    "def window_operation(sales, window_size):\n",
    "    result = []\n",
    "    for i in range(len(sales) - (window_size - 1)):\n",
    "        toplam = 0\n",
    "        for j in range(window_size):\n",
    "            toplam += sales[i + j]\n",
    "        ave = toplam / window_size\n",
    "        result.append(ave)\n",
    "    return result"
   ]
  },
  {
   "cell_type": "code",
   "execution_count": 36,
   "id": "4f3d4ae5",
   "metadata": {},
   "outputs": [
    {
     "data": {
      "text/plain": [
       "[337.11]"
      ]
     },
     "execution_count": 36,
     "metadata": {},
     "output_type": "execute_result"
    }
   ],
   "source": [
    "window_operation(sales, 5)"
   ]
  },
  {
   "cell_type": "code",
   "execution_count": 61,
   "id": "9e28d6c3",
   "metadata": {},
   "outputs": [
    {
     "name": "stdout",
     "output_type": "stream",
     "text": [
      "i am very happy and delighted with the wonderful news.\n",
      "Positive: 3\n",
      "Negative: 0\n",
      "this is a terrible situation, and i am very sad.\n",
      "Positive: 0\n",
      "Negative: 1\n",
      "i love this product! it has brought me so much joy.\n",
      "Positive: 1\n",
      "Negative: 0\n",
      "i am frustrated and annoyed by the lack of progress.\n",
      "Positive: 0\n",
      "Negative: 2\n",
      "what a delightful and wonderful day for a walk.\n",
      "Positive: 2\n",
      "Negative: 0\n",
      "the news about the event is terribly disappointing.\n",
      "Positive: 0\n",
      "Negative: 1\n",
      "i am so excited and pleased with the results.\n",
      "Positive: 2\n",
      "Negative: 0\n"
     ]
    }
   ],
   "source": [
    "#duygu analizi\n",
    "positive_words=[\"happy\", \"joy\", \"love\", \"wonderful\", \"delighted\", \"delightful\", \"pleased\", \"excited\"]\n",
    "negative_words = [\"sad\", \"anger\", \"hate\", \"terrible\", \"terribly\", \"disappointing\", \"annoyed\", \"frustrated\"]\n",
    "sentences = [\n",
    "    \"I am very happy and delighted with the wonderful news.\", \n",
    "    \"This is a terrible situation, and I am very sad.\", \n",
    "    \"I love this product! It has brought me so much joy.\", \n",
    "    \"I am frustrated and annoyed by the lack of progress.\",\n",
    "    \"What a delightful and wonderful day for a walk.\", \n",
    "    \"The news about the event is terribly disappointing.\", \n",
    "    \"I am so excited and pleased with the results.\"\n",
    "]\n",
    "\n",
    "marks = [\".,;!?\"]\n",
    "for stc in sentences:\n",
    "    for mark in marks:\n",
    "        stc = stc.replace(mark, \"\")\n",
    "    stc = stc.lower()\n",
    "    print(stc)\n",
    "    stc_pos = 0\n",
    "    stc_neg = 0\n",
    "    for word in stc.split(\" \"):\n",
    "        if word in positive_words:\n",
    "            stc_pos += 1\n",
    "        if word in negative_words:\n",
    "            stc_neg += 1\n",
    "    print(f\"Positive: {stc_pos}\\nNegative: {stc_neg}\")"
   ]
  },
  {
   "cell_type": "code",
   "execution_count": 82,
   "id": "fcb8cd13",
   "metadata": {},
   "outputs": [],
   "source": [
    "# kullanıcıdan veri alarak\n",
    "def is_pos_or_neg(word):\n",
    "    positive_words = [\"happy\", \"joy\", \"love\", \"wonderful\", \"delighted\", \"delightful\", \"pleased\", \"excited\"]\n",
    "    negative_words = [\"sad\", \"anger\", \"hate\", \"terrible\", \"terribly\", \"disappointing\", \"annoyed\", \"frustrated\"]\n",
    "\n",
    "    if word in positive_words:\n",
    "        return 1\n",
    "    elif word in negative_words:\n",
    "        return -1\n",
    "    else:\n",
    "        return 0\n",
    "\n",
    "\n",
    "def lower_and_clean(sentence):\n",
    "    marks = \".,:;!?\"\n",
    "    \n",
    "    for mark in marks:\n",
    "        sentence = sentence.replace(mark, \"\")\n",
    "    return sentence.lower()"
   ]
  },
  {
   "cell_type": "code",
   "execution_count": 59,
   "id": "1cfd4792",
   "metadata": {},
   "outputs": [
    {
     "name": "stdout",
     "output_type": "stream",
     "text": [
      "Enter a sentence:happy\n",
      "Tahmin: Pozitif\n"
     ]
    }
   ],
   "source": [
    "stc = input(\"Enter a sentence:\")\n",
    "\n",
    "score = 0\n",
    "\n",
    "for word in stc.split(\" \"):\n",
    "    score += is_pos_or_neg(word)\n",
    "\n",
    "if score > 0:\n",
    "    print(\"Tahmin: Pozitif\")\n",
    "elif score < 0:\n",
    "    print(\"Tahmin: Negatif\")\n",
    "else:\n",
    "    print(\"Tahmin: Nötr\")"
   ]
  },
  {
   "cell_type": "code",
   "execution_count": 77,
   "id": "7e06c63f",
   "metadata": {},
   "outputs": [
    {
     "name": "stdout",
     "output_type": "stream",
     "text": [
      "car is not running\n",
      "Running\n",
      "10\n",
      "-10\n"
     ]
    }
   ],
   "source": [
    "class Car:\n",
    "    \n",
    "    def __init__(self, marka, model, yil):\n",
    "        self.marka = marka\n",
    "        self.model = model\n",
    "        self.yil = yil\n",
    "        self.status = \"Stopped\"\n",
    "        self.speed = 0\n",
    "    def run(self):\n",
    "        self.status = \"Running\"\n",
    "    def accelerate(self, amount):\n",
    "        if self.status == \"Running\":\n",
    "            self.speed += amount\n",
    "            print(self.speed)\n",
    "        else:\n",
    "            print(\"car is not running\")\n",
    "            self.run()\n",
    "            print(self.status)\n",
    "            self.speed += amount\n",
    "            print(self.speed)\n",
    "            \n",
    "    def decelerate(self, amount):\n",
    "        if self.status == \"Running\":\n",
    "            self.speed -= amount\n",
    "            print(self.speed)\n",
    "        else:\n",
    "            print(\"car is not running\")\n",
    "            self.run()\n",
    "            print(self.status)\n",
    "            self.speed -= amount\n",
    "            print(self.speed)\n",
    "            \n",
    "my_car = Car(\"kartal\", \"d34\", 2009)\n",
    "my_car.accelerate(10)\n",
    "my_car.decelerate(20)"
   ]
  },
  {
   "cell_type": "code",
   "execution_count": 7,
   "id": "312dbd6e",
   "metadata": {},
   "outputs": [],
   "source": [
    "class LanguageModel:\n",
    "\n",
    "    def __init__(self):\n",
    "        self.word_scores = {}\n",
    "        self.marks = \".,:;!?\"\n",
    "\n",
    "    def lower_and_clean(self, sentence):\n",
    "        for mark in self.marks:\n",
    "            sentence = sentence.replace(mark, \"\")\n",
    "        \n",
    "        return sentence.lower()\n",
    "\n",
    "    def get_pos_samples(self):\n",
    "        self.get_sample(\"p\")\n",
    "\n",
    "    def get_neg_samples(self):\n",
    "        self.get_sample(\"n\")\n",
    "    \n",
    "    def get_sample(self, sample_type):\n",
    "        if sample_type == \"p\":\n",
    "            increment = +1\n",
    "        else:\n",
    "            increment = -1\n",
    "            \n",
    "        while True:\n",
    "            sentence = input(\"Cümle girin (çıkmak için q):\")\n",
    "            sentence = self.lower_and_clean(sentence)\n",
    "            \n",
    "            if sentence == \"q\":\n",
    "                return\n",
    "            else:\n",
    "                for word in sentence.split(\" \"):\n",
    "                    word = word[:4]\n",
    "                    if word in self.word_scores:\n",
    "                        self.word_scores[word] += increment\n",
    "                    else:\n",
    "                        self.word_scores[word] = increment\n",
    "\n",
    "    def predict(self):\n",
    "        sentence = input(\"Cümle girin:\")\n",
    "        sentence = self.lower_and_clean(sentence)\n",
    "        total_score = 0\n",
    "        for word in sentence.split(\" \"):\n",
    "            word = word[:4]\n",
    "            if word in self.word_scores:\n",
    "                total_score += self.word_scores[word]\n",
    "\n",
    "        label = \"\"\n",
    "        if total_score > 0:\n",
    "            label = \"Pozitif\"\n",
    "        else:\n",
    "            label = \"Negatif\"\n",
    "        return f\"Bu cümle {total_score} skor ile {label} bir cümledir.\""
   ]
  },
  {
   "cell_type": "code",
   "execution_count": 8,
   "id": "341de268",
   "metadata": {},
   "outputs": [
    {
     "name": "stdout",
     "output_type": "stream",
     "text": [
      "Cümle girin (çıkmak için q):fgdgf\n",
      "Cümle girin (çıkmak için q):naıslsın gülüm\n",
      "Cümle girin (çıkmak için q):ben iyim mutluyum\n",
      "Cümle girin (çıkmak için q):sen baya güzelsin\n",
      "Cümle girin (çıkmak için q):q\n",
      "Cümle girin (çıkmak için q):igrneç bir sınav\n",
      "Cümle girin (çıkmak için q):mutsuzuum\n",
      "Cümle girin (çıkmak için q):umutsuzuum\n",
      "Cümle girin (çıkmak için q):q\n"
     ]
    }
   ],
   "source": [
    "lm = LanguageModel()\n",
    "lm.get_pos_samples()\n",
    "lm.get_neg_samples()"
   ]
  },
  {
   "cell_type": "code",
   "execution_count": 9,
   "id": "5a22ebc9",
   "metadata": {},
   "outputs": [
    {
     "name": "stdout",
     "output_type": "stream",
     "text": [
      "Cümle girin:umut nedir\n"
     ]
    },
    {
     "data": {
      "text/plain": [
       "'Bu cümle -1 skor ile Negatif bir cümledir.'"
      ]
     },
     "execution_count": 9,
     "metadata": {},
     "output_type": "execute_result"
    }
   ],
   "source": [
    "lm.predict()"
   ]
  },
  {
   "cell_type": "code",
   "execution_count": 10,
   "id": "ddb8fb5a",
   "metadata": {},
   "outputs": [
    {
     "data": {
      "text/plain": [
       "{'fgdg': 1,\n",
       " 'naıs': 1,\n",
       " 'gülü': 1,\n",
       " 'ben': 1,\n",
       " 'iyim': 1,\n",
       " 'mutl': 1,\n",
       " 'sen': 1,\n",
       " 'baya': 1,\n",
       " 'güze': 1,\n",
       " 'igrn': -1,\n",
       " 'bir': -1,\n",
       " 'sına': -1,\n",
       " 'muts': -1,\n",
       " 'umut': -1}"
      ]
     },
     "execution_count": 10,
     "metadata": {},
     "output_type": "execute_result"
    }
   ],
   "source": [
    "lm.word_scores"
   ]
  },
  {
   "cell_type": "code",
   "execution_count": null,
   "id": "0f6714f7",
   "metadata": {},
   "outputs": [],
   "source": []
  }
 ],
 "metadata": {
  "kernelspec": {
   "display_name": "Python 3 (ipykernel)",
   "language": "python",
   "name": "python3"
  },
  "language_info": {
   "codemirror_mode": {
    "name": "ipython",
    "version": 3
   },
   "file_extension": ".py",
   "mimetype": "text/x-python",
   "name": "python",
   "nbconvert_exporter": "python",
   "pygments_lexer": "ipython3",
   "version": "3.10.12"
  }
 },
 "nbformat": 4,
 "nbformat_minor": 5
}
