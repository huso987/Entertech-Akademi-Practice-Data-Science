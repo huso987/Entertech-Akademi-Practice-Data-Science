{
 "cells": [
  {
   "cell_type": "code",
   "execution_count": 3,
   "id": "6ebc985e-081a-421d-b4c6-ccc1e2608ccd",
   "metadata": {},
   "outputs": [
    {
     "name": "stdout",
     "output_type": "stream",
     "text": [
      "3rd Fruit: Pear \n"
     ]
    }
   ],
   "source": [
    "#1\n",
    "fruits = [\"Apple\", \"Banana\", \"Pear\", \"Mandarin\", \"Orange\"]\n",
    "print(f\"3rd Fruit: {fruits[2]} \")"
   ]
  },
  {
   "cell_type": "code",
   "execution_count": 6,
   "id": "21baf7da-285c-44a9-9410-9a720c09bd26",
   "metadata": {},
   "outputs": [
    {
     "name": "stdout",
     "output_type": "stream",
     "text": [
      "Capital of Turkey: Ankara\n"
     ]
    }
   ],
   "source": [
    "#2\n",
    "Countries = { 'Turkey' : 'Ankara',\n",
    "              'France' : 'Paris' ,\n",
    "              'Germany' : 'Berlin' }\n",
    "print(f\"Capital of Turkey: { Countries['Turkey'] }\")"
   ]
  },
  {
   "cell_type": "code",
   "execution_count": 23,
   "id": "3fb552ad-e944-4ae9-b14c-f168f4aaad37",
   "metadata": {},
   "outputs": [
    {
     "name": "stdin",
     "output_type": "stream",
     "text": [
      "Enter a integer number:  7\n"
     ]
    },
    {
     "name": "stdout",
     "output_type": "stream",
     "text": [
      "Odd Number\n"
     ]
    }
   ],
   "source": [
    "#3\n",
    "num = int(input(\"Enter a integer number: \"))\n",
    "if num % 2 == 0:\n",
    "    print(\"Even Number\")\n",
    "else :\n",
    "    print(\"Odd Number\")"
   ]
  },
  {
   "cell_type": "code",
   "execution_count": 24,
   "id": "7472dbe7-2d92-41d0-a4b6-699c39265cb2",
   "metadata": {},
   "outputs": [
    {
     "name": "stdout",
     "output_type": "stream",
     "text": [
      "1\n",
      "4\n",
      "9\n",
      "16\n",
      "25\n"
     ]
    }
   ],
   "source": [
    "#4\n",
    "nums = [1, 2, 3, 4, 5]\n",
    "for i in nums:\n",
    "    i = i**2\n",
    "    print(i)"
   ]
  },
  {
   "cell_type": "code",
   "execution_count": 12,
   "id": "d6f3ec10-7c48-4bc7-904b-9c2c4071184c",
   "metadata": {},
   "outputs": [
    {
     "name": "stdout",
     "output_type": "stream",
     "text": [
      "56\n",
      "99\n",
      "77\n"
     ]
    }
   ],
   "source": [
    "#5\n",
    "Students = {'Ahmet': 56,\n",
    "            'Hüseyin': 99,\n",
    "            'Ufuk': 77     }\n",
    "for i in Students.values():\n",
    "    print(i)"
   ]
  },
  {
   "cell_type": "code",
   "execution_count": 14,
   "id": "7ed3172f-33db-42d0-a5f3-d6c88936ac9d",
   "metadata": {},
   "outputs": [
    {
     "name": "stdout",
     "output_type": "stream",
     "text": [
      "Elma\n",
      "Armut\n",
      "Muz\n",
      "Portakal\n",
      "Havuç\n",
      "Brokoli\n",
      "Lahana\n",
      "Peynir\n",
      "Süt\n"
     ]
    }
   ],
   "source": [
    "#6\n",
    "Nested = [[\"Elma\", \"Armut\", \"Muz\", \"Portakal\"], [\"Havuç\", \"Brokoli\", \"Lahana\"],[\"Peynir\", \"Süt\"]]\n",
    "for i in Nested:\n",
    "    for j in i :\n",
    "        print(j)\n",
    "        "
   ]
  },
  {
   "cell_type": "code",
   "execution_count": 15,
   "id": "3b71279b-a894-4251-b26e-fafd00b4bc26",
   "metadata": {},
   "outputs": [
    {
     "name": "stdout",
     "output_type": "stream",
     "text": [
      "True\n"
     ]
    }
   ],
   "source": [
    "#7\n",
    "Cars = ['BMW', 'TOFAŞ', 'Anadol']\n",
    "car1 = 'TOFAŞ'\n",
    "print(car1 in Cars)"
   ]
  },
  {
   "cell_type": "code",
   "execution_count": 22,
   "id": "61b9ab87-0f46-4351-b670-5fca31f0db31",
   "metadata": {},
   "outputs": [
    {
     "name": "stdin",
     "output_type": "stream",
     "text": [
      "Enter a number:  5\n"
     ]
    },
    {
     "name": "stdout",
     "output_type": "stream",
     "text": [
      "Düşük\n"
     ]
    }
   ],
   "source": [
    "#8\n",
    "number = int(input(\"Enter a number: \"))\n",
    "if number > 50:\n",
    "    print(\"Yüksek\")\n",
    "elif number > 25 and number <= 50:\n",
    "    print(\"Orta\")\n",
    "else:\n",
    "    print(\"Düşük\")\n"
   ]
  },
  {
   "cell_type": "code",
   "execution_count": 1,
   "id": "571d4db4-796f-4a02-ae12-7b86541311de",
   "metadata": {},
   "outputs": [
    {
     "name": "stdout",
     "output_type": "stream",
     "text": [
      "Hüseyin: 5000.0 TL\n",
      "Ufuk: 6146.749999999999 TL\n",
      "Oktay: 9081.435 TL\n"
     ]
    }
   ],
   "source": [
    "#9\n",
    "Isciler = {\"Hüseyin\":4000.0,\n",
    "           \"Ufuk\":5345.0,\n",
    "           \"Oktay\":7896.9 }\n",
    "for isci, ücret in Isciler.items():\n",
    "    if ücret < 5000:\n",
    "        Isciler[isci] *= 1.25\n",
    "    else:\n",
    "        Isciler[isci] *= 1.15\n",
    "for isci, new_ücret in Isciler.items():\n",
    "    print(f\"{isci}: {new_ücret} TL\")"
   ]
  },
  {
   "cell_type": "code",
   "execution_count": 2,
   "id": "f4a7aa1b-c388-44d3-821e-77343e27d921",
   "metadata": {},
   "outputs": [
    {
     "name": "stdout",
     "output_type": "stream",
     "text": [
      "[25, 28, 12, 20]\n"
     ]
    }
   ],
   "source": [
    "#10\n",
    "Sayilar = [[4, 2, 6, 5, 8], [10, 2, 7, 9], [5, 4, 3], [19, 1]]\n",
    "sonuc = []\n",
    "for i in Sayilar:\n",
    "    toplam = 0\n",
    "    for j in i:\n",
    "        toplam += j\n",
    "    sonuc.append(toplam)\n",
    "print(sonuc)"
   ]
  },
  {
   "cell_type": "code",
   "execution_count": 5,
   "id": "bfbdf90f-43d7-4a93-ba8c-686b799858b6",
   "metadata": {},
   "outputs": [
    {
     "name": "stdout",
     "output_type": "stream",
     "text": [
      "ANNA BURNS\n",
      "ANNE ENRIGHT\n"
     ]
    }
   ],
   "source": [
    "#11\n",
    "books = [\n",
    "    {\"başlık\": \"God Help the Child\", \"yazar\": \"Toni Morrison\", \"yıl\": 2015},\n",
    "    {\"başlık\": \"The Milkman\", \"yazar\": \"Anna Burns\", \"yıl\": 2018},\n",
    "    {\"başlık\": \"The Green Road\", \"yazar\": \"Anne Enright\", \"yıl\": 2015},\n",
    "    {\"başlık\": \"Aldatmak\", \"yazar\": \"Ahmet Altan\", \"yıl\": 2002},\n",
    "    {\"başlık\": \"Harry Potter ve Zümrüdüanka Yoldaşlığı\", \"yazar\": \"J.K.Rowling\", \"yıl\": 2003},\n",
    "]\n",
    "for book in books:\n",
    "    if book[\"yıl\"] > 2010 and book[\"yazar\"].startswith('A'):\n",
    "        print(book[\"yazar\"].upper())"
   ]
  },
  {
   "cell_type": "code",
   "execution_count": 4,
   "id": "a6ee6280-e00b-4c85-86aa-040217a8ba17",
   "metadata": {},
   "outputs": [
    {
     "name": "stdout",
     "output_type": "stream",
     "text": [
      "**********Tarihler En Yeniden En Eskiye***********\n",
      "2019.08.20\n",
      "2003.06.12\n",
      "2000.01.14\n",
      "1998.05.05\n",
      "1998.03.02\n"
     ]
    }
   ],
   "source": [
    "#12\n",
    "Tarihler = [\"05.05.1998\", \"12.06.2003\", \"14.01.2000\", \"20.08.2019\", \"02.03.1998\"]\n",
    "sorted_tarihler = []\n",
    "for i in Tarihler:\n",
    "    gün, ay, yıl = i.split(\".\")\n",
    "    sorted_tarihler.append(f\"{yıl}.{ay}.{gün}\")\n",
    "print(\"Tarihler En Yeniden En Eskiye\".center(50,'*'))\n",
    "sorted_tarihler.sort(reverse = True)\n",
    "for j in sorted_tarihler:\n",
    "    print(j)"
   ]
  },
  {
   "cell_type": "code",
   "execution_count": 5,
   "id": "0f7d46de-58b6-4a08-96b4-77322aab28ad",
   "metadata": {},
   "outputs": [
    {
     "name": "stdout",
     "output_type": "stream",
     "text": [
      "{'a': 9, 'k': 9, 'd': 6, 'e': 7, 'b': 7, 'y': 8}\n"
     ]
    }
   ],
   "source": [
    "#13\n",
    "dic_1 = {\"a\":7, \"k\":3, \"d\":5, \"e\":2}\n",
    "dic_2 = {\"a\":2, \"b\":7, \"d\":1, \"e\":5, \"k\":6, \"y\":8}\n",
    "dic_3 = {}\n",
    "for key, value in dic_1.items():\n",
    "    if key in dic_3:\n",
    "        dic_3[key] += value\n",
    "    else:\n",
    "        dic_3[key] = value\n",
    "for key, value in dic_2.items():\n",
    "    if key in dic_3:\n",
    "        dic_3[key] += value\n",
    "    else:\n",
    "        dic_3[key] = value   \n",
    "print(dic_3)"
   ]
  },
  {
   "cell_type": "code",
   "execution_count": null,
   "id": "7666b0c4-abe1-4471-9050-b9ad39ff3175",
   "metadata": {},
   "outputs": [],
   "source": []
  }
 ],
 "metadata": {
  "kernelspec": {
   "display_name": "Python 3 (ipykernel)",
   "language": "python",
   "name": "python3"
  },
  "language_info": {
   "codemirror_mode": {
    "name": "ipython",
    "version": 3
   },
   "file_extension": ".py",
   "mimetype": "text/x-python",
   "name": "python",
   "nbconvert_exporter": "python",
   "pygments_lexer": "ipython3",
   "version": "3.10.12"
  }
 },
 "nbformat": 4,
 "nbformat_minor": 5
}
